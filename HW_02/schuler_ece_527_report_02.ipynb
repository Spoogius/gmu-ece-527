{
 "cells": [
  {
   "cell_type": "markdown",
   "id": "d1392b34-c7f2-4bbd-a7bd-96e99bddf176",
   "metadata": {},
   "source": [
    "# GMU ECE 527 - Computer Exercise #2 - Report\n",
    "**Stewart Schuler - G01395779**\\\n",
    "**20240912**"
   ]
  }
 ],
 "metadata": {
  "kernelspec": {
   "display_name": "Python 3 (ipykernel)",
   "language": "python",
   "name": "python3"
  },
  "language_info": {
   "codemirror_mode": {
    "name": "ipython",
    "version": 3
   },
   "file_extension": ".py",
   "mimetype": "text/x-python",
   "name": "python",
   "nbconvert_exporter": "python",
   "pygments_lexer": "ipython3",
   "version": "3.9.18"
  }
 },
 "nbformat": 4,
 "nbformat_minor": 5
}
