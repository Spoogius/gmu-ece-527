{
 "cells": [
  {
   "cell_type": "markdown",
   "id": "a263d495-8ab6-40bc-80da-9655a9e10c96",
   "metadata": {},
   "source": [
    "# File for testing models"
   ]
  },
  {
   "cell_type": "code",
   "execution_count": 3,
   "id": "b4e576c1-f9fb-4993-80eb-6b0bf2428299",
   "metadata": {},
   "outputs": [
    {
     "name": "stdout",
     "output_type": "stream",
     "text": [
      "\u001b[1m4/4\u001b[0m \u001b[32m━━━━━━━━━━━━━━━━━━━━\u001b[0m\u001b[37m\u001b[0m \u001b[1m3s\u001b[0m 155ms/step - accuracy: 0.9050 - loss: 0.3390\n",
      "Evaluation results: [0.36014771461486816, 0.8899999856948853]\n"
     ]
    }
   ],
   "source": [
    "import numpy as np\n",
    "from keras.models import load_model\n",
    "from keras.utils import to_categorical\n",
    "# Load the .npz file\n",
    "data = np.load('model_eval.npz')\n",
    "# Access the arrays stored in the .npz file\n",
    "images = data['images']  # Access the images array\n",
    "labels = data['labels']  # Access the labels array\n",
    "labels = to_categorical(labels,20)\n",
    "images = images/255\n",
    "model = load_model(\"model.5779.keras\")\n",
    "results = model.evaluate(images,labels)\n",
    "print(\"Evaluation results:\", results)"
   ]
  },
  {
   "cell_type": "code",
   "execution_count": null,
   "id": "bceadc98-ab3b-4008-91b3-6d17703ca2d2",
   "metadata": {},
   "outputs": [],
   "source": []
  }
 ],
 "metadata": {
  "kernelspec": {
   "display_name": "Python 3 (ipykernel)",
   "language": "python",
   "name": "python3"
  },
  "language_info": {
   "codemirror_mode": {
    "name": "ipython",
    "version": 3
   },
   "file_extension": ".py",
   "mimetype": "text/x-python",
   "name": "python",
   "nbconvert_exporter": "python",
   "pygments_lexer": "ipython3",
   "version": "3.9.18"
  }
 },
 "nbformat": 4,
 "nbformat_minor": 5
}
