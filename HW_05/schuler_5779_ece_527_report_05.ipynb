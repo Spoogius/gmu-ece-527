{
 "cells": [
  {
   "cell_type": "markdown",
   "id": "0bb456fd-60e8-41bf-9cee-a20346874f83",
   "metadata": {},
   "source": [
    "# GMU ECE 527 - Computer Exercise #05 - Code\n",
    "**Stewart Schuler - G01395779**\\\n",
    "**20241007**"
   ]
  }
 ],
 "metadata": {
  "kernelspec": {
   "display_name": "Python 3 (ipykernel)",
   "language": "python",
   "name": "python3"
  },
  "language_info": {
   "codemirror_mode": {
    "name": "ipython",
    "version": 3
   },
   "file_extension": ".py",
   "mimetype": "text/x-python",
   "name": "python",
   "nbconvert_exporter": "python",
   "pygments_lexer": "ipython3",
   "version": "3.9.18"
  }
 },
 "nbformat": 4,
 "nbformat_minor": 5
}
